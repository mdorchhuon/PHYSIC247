{
 "cells": [
  {
   "cell_type": "markdown",
   "id": "02c99598-e969-4846-b51d-288b1878bdf1",
   "metadata": {},
   "source": [
    "**1. Printing Pauli Matrices using Python.**\n",
    "\n",
    "    Pauli matrices are defined as:\n",
    "\n",
    "\\begin{equation}\n",
    "X=\\begin{pmatrix}\n",
    "1 & 0 \\\\\n",
    "0 & 1\n",
    "\\end{pmatrix},\n",
    "~Y=\\begin{pmatrix}\n",
    "0 & -i \\\\\n",
    "i & 0\n",
    "\\end{pmatrix},\n",
    "~Z=\\begin{pmatrix}\n",
    "0 & -1 \\\\\n",
    "1 & 1\n",
    "\\end{pmatrix}\n",
    "\\end{equation}\n",
    "\n",
    "    Here is it printed in python:"
   ]
  },
  {
   "cell_type": "code",
   "execution_count": 20,
   "id": "bf5c336c-61b8-42ba-b41e-05569107e74b",
   "metadata": {},
   "outputs": [
    {
     "ename": "ModuleNotFoundError",
     "evalue": "No module named 'numpy'",
     "output_type": "error",
     "traceback": [
      "\u001b[0;31m---------------------------------------------------------------------------\u001b[0m",
      "\u001b[0;31mModuleNotFoundError\u001b[0m                       Traceback (most recent call last)",
      "Cell \u001b[0;32mIn[20], line 2\u001b[0m\n\u001b[1;32m      1\u001b[0m \u001b[38;5;66;03m# Define Pauli Matrices.\u001b[39;00m\n\u001b[0;32m----> 2\u001b[0m \u001b[38;5;28;01mimport\u001b[39;00m \u001b[38;5;21;01mnumpy\u001b[39;00m \u001b[38;5;28;01mas\u001b[39;00m \u001b[38;5;21;01mnp\u001b[39;00m\n\u001b[1;32m      4\u001b[0m pauli_X \u001b[38;5;241m=\u001b[39m np\u001b[38;5;241m.\u001b[39marray([[\u001b[38;5;241m0\u001b[39m,\u001b[38;5;241m1\u001b[39m],\n\u001b[1;32m      5\u001b[0m                     [\u001b[38;5;241m1\u001b[39m,\u001b[38;5;241m0\u001b[39m]])\n\u001b[1;32m      6\u001b[0m pauli_Y \u001b[38;5;241m=\u001b[39m np\u001b[38;5;241m.\u001b[39marray([[\u001b[38;5;241m0\u001b[39m,\u001b[38;5;241m-\u001b[39m\u001b[38;5;241m1\u001b[39mj],\n\u001b[1;32m      7\u001b[0m                      [\u001b[38;5;241m1\u001b[39mj,\u001b[38;5;241m0\u001b[39m]])\n",
      "\u001b[0;31mModuleNotFoundError\u001b[0m: No module named 'numpy'"
     ]
    }
   ],
   "source": [
    "# Define Pauli Matrices.\n",
    "import numpy as np\n",
    "\n",
    "pauli_X = np.array([[0, 1],\n",
    "                    [1, 0]])\n",
    "pauli_Y = np.array([[0, -1j],\n",
    "                    [1j, 0]])\n",
    "pauli_Z = np.array([[1, 0],\n",
    "                    [0, -1]])\n",
    "\n",
    "# Print.\n",
    "print(\"X:\", pauli_X)\n",
    "print(\"\\nY:\", pauli_Y)\n",
    "print(\"\\nZ:\", pauli_Z)\n"
   ]
  },
  {
   "cell_type": "markdown",
   "id": "ab8b76cb-1937-4594-9b66-d18ed49f8c23",
   "metadata": {},
   "source": [
    "**2. Solve Exercise 1.4 numerically and make sure your result is consistent with your analytical result: Using the following \"np.conjugate\" and \"np.dot\" functions, compute the norm of**\n",
    "\\begin{equation}\n",
    "c=\\begin{pmatrix}\n",
    "1+i \\\\\n",
    "3-2i\n",
    "\\end{pmatrix}\n",
    "\\end{equation}\n",
    "\n",
    "    Here is my resulting code:"
   ]
  },
  {
   "cell_type": "code",
   "execution_count": 21,
   "id": "9536d062-3602-4b2c-a6d2-30b6b9893d4b",
   "metadata": {},
   "outputs": [
    {
     "name": "stdout",
     "output_type": "stream",
     "text": [
      "The history saving thread hit an unexpected error (OperationalError('attempt to write a readonly database')).History will not be written to the database.\n"
     ]
    },
    {
     "ename": "ModuleNotFoundError",
     "evalue": "No module named 'numpy'",
     "output_type": "error",
     "traceback": [
      "\u001b[0;31m---------------------------------------------------------------------------\u001b[0m",
      "\u001b[0;31mModuleNotFoundError\u001b[0m                       Traceback (most recent call last)",
      "Cell \u001b[0;32mIn[21], line 1\u001b[0m\n\u001b[0;32m----> 1\u001b[0m \u001b[38;5;28;01mimport\u001b[39;00m \u001b[38;5;21;01mnumpy\u001b[39;00m \u001b[38;5;28;01mas\u001b[39;00m \u001b[38;5;21;01mnp\u001b[39;00m\n\u001b[1;32m      3\u001b[0m \u001b[38;5;66;03m# Define complex vector c.\u001b[39;00m\n\u001b[1;32m      4\u001b[0m c \u001b[38;5;241m=\u001b[39m np\u001b[38;5;241m.\u001b[39marray([\u001b[38;5;241m1\u001b[39m \u001b[38;5;241m+\u001b[39m \u001b[38;5;241m1\u001b[39mj, \u001b[38;5;241m3\u001b[39m \u001b[38;5;241m-\u001b[39m \u001b[38;5;241m2\u001b[39mj])\n",
      "\u001b[0;31mModuleNotFoundError\u001b[0m: No module named 'numpy'"
     ]
    }
   ],
   "source": [
    "import numpy as np\n",
    "\n",
    "# Define complex vector c.\n",
    "c = np.array([1 + 1j, 3 - 2j])\n",
    "\n",
    "# Compute the norm.\n",
    "conjugate = np.conjugate(c)\n",
    "c_dot = np.dot(conjugate, c)\n",
    "norm = np.sqrt(c_dot)\n",
    "\n",
    "# Print norm.\n",
    "print(\"The norm of c is\", norm)\n"
   ]
  },
  {
   "cell_type": "markdown",
   "id": "16e65ef7-aeaa-41df-8098-c80c394df80f",
   "metadata": {},
   "source": [
    "**3.  Solve Exercise 1.10 (3) numerically and make sure your numerical results are consistent with analytical results. Obtain the eigenvalues and eigenvector of the following matrix:**\n",
    "\\begin{equation}\n",
    "H=\\begin{pmatrix}\n",
    "2 & 1-i \\\\\n",
    "1+i & 3 \\\\\n",
    "\\end{pmatrix}\n",
    "\\end{equation}\n",
    "\n",
    "    Here is my resulting code:"
   ]
  },
  {
   "cell_type": "code",
   "execution_count": null,
   "id": "9e0f7a2e-5754-4078-ab69-474bf73e2740",
   "metadata": {},
   "outputs": [],
   "source": [
    "import numpy as np\n",
    "\n",
    "# Define matrix H.\n",
    "H = np.array([[2, 1 - 1j],\n",
    "             [1 + 1j, 3]])\n",
    "\n",
    "# Compute eigenvalues and eigenvectors.\n",
    "eigenvalues, eigenvectors = np.linalg.eig(H)\n",
    "\n",
    "# Print.\n",
    "print(\"The Eigenvalues are:\\n\", eigenvalues)\n",
    "print(\"\\nThe Eigenvectors are:\\n\", eigenvectors)\n"
   ]
  }
 ],
 "metadata": {
  "kernelspec": {
   "display_name": "Python 3 (ipykernel)",
   "language": "python",
   "name": "python3"
  },
  "language_info": {
   "codemirror_mode": {
    "name": "ipython",
    "version": 3
   },
   "file_extension": ".py",
   "mimetype": "text/x-python",
   "name": "python",
   "nbconvert_exporter": "python",
   "pygments_lexer": "ipython3",
   "version": "3.12.5"
  }
 },
 "nbformat": 4,
 "nbformat_minor": 5
}

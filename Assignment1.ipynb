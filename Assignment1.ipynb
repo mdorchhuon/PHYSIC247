{
 "cells": [
  {
   "cell_type": "markdown",
   "id": "02c99598-e969-4846-b51d-288b1878bdf1",
   "metadata": {},
   "source": [
    "**1. Printing Pauli Matrices using Python.**\n",
    "\n",
    "    Pauli matrices are defined as:\n",
    "\n",
    "\\begin{equation}\n",
    "X=\\begin{pmatrix}\n",
    "1 & 0 \\\\\n",
    "0 & 1\n",
    "\\end{pmatrix},\n",
    "~Y=\\begin{pmatrix}\n",
    "0 & -i \\\\\n",
    "i & 0\n",
    "\\end{pmatrix},\n",
    "~Z=\\begin{pmatrix}\n",
    "0 & -1 \\\\\n",
    "1 & 1\n",
    "\\end{pmatrix}\n",
    "\\end{equation}\n",
    "\n",
    "    Here is it printed in python:"
   ]
  },
  {
   "cell_type": "code",
   "execution_count": 7,
   "id": "bf5c336c-61b8-42ba-b41e-05569107e74b",
   "metadata": {},
   "outputs": [
    {
     "name": "stdout",
     "output_type": "stream",
     "text": [
      "X: [[0 1]\n",
      " [1 0]]\n",
      "\n",
      "Y: [[ 0.+0.j -0.-1.j]\n",
      " [ 0.+1.j  0.+0.j]]\n",
      "\n",
      "Z: [[ 1  0]\n",
      " [ 0 -1]]\n"
     ]
    }
   ],
   "source": [
    "import numpy as np\n",
    "\n",
    "# Define Pauli Matrices.\n",
    "pauli_X = np.array([[0, 1],\n",
    "                    [1, 0]])\n",
    "pauli_Y = np.array([[0, -1j],\n",
    "                    [1j, 0]])\n",
    "pauli_Z = np.array([[1, 0],\n",
    "                    [0, -1]])\n",
    "\n",
    "# Print.\n",
    "print(\"X:\", pauli_X)\n",
    "print(\"\\nY:\", pauli_Y)\n",
    "print(\"\\nZ:\", pauli_Z)\n"
   ]
  },
  {
   "cell_type": "markdown",
   "id": "ab8b76cb-1937-4594-9b66-d18ed49f8c23",
   "metadata": {},
   "source": [
    "**2. Solve Exercise 1.4 numerically and make sure your result is consistent with your analytical result: Using the following \"np.conjugate\" and \"np.dot\" functions, compute the norm of**\n",
    "\\begin{equation}\n",
    "c=\\begin{pmatrix}\n",
    "1+i \\\\\n",
    "3-2i\n",
    "\\end{pmatrix}\n",
    "\\end{equation}\n",
    "\n",
    "    Here is my resulting code:"
   ]
  },
  {
   "cell_type": "code",
   "execution_count": 8,
   "id": "9536d062-3602-4b2c-a6d2-30b6b9893d4b",
   "metadata": {},
   "outputs": [
    {
     "name": "stdout",
     "output_type": "stream",
     "text": [
      "The norm of c is (3.872983346207417+0j)\n"
     ]
    }
   ],
   "source": [
    "import numpy as np\n",
    "\n",
    "# Define complex vector c.\n",
    "c = np.array([1 + 1j, 3 - 2j])\n",
    "\n",
    "# Compute the norm.\n",
    "conjugate = np.conjugate(c)\n",
    "c_dot = np.dot(conjugate, c)\n",
    "norm = np.sqrt(c_dot)\n",
    "\n",
    "# Print norm.\n",
    "print(\"The norm of c is\", norm)\n"
   ]
  },
  {
   "cell_type": "markdown",
   "id": "16e65ef7-aeaa-41df-8098-c80c394df80f",
   "metadata": {},
   "source": [
    "**3.  Solve Exercise 1.10 (3) numerically and make sure your numerical results are consistent with analytical results. Obtain the eigenvalues and eigenvector of the following matrix:**\n",
    "\\begin{equation}\n",
    "H=\\begin{pmatrix}\n",
    "2 & 1-i \\\\\n",
    "1+i & 3 \\\\\n",
    "\\end{pmatrix}\n",
    "\\end{equation}\n",
    "\n",
    "    Here is my resulting code:"
   ]
  },
  {
   "cell_type": "code",
   "execution_count": 9,
   "id": "9e0f7a2e-5754-4078-ab69-474bf73e2740",
   "metadata": {},
   "outputs": [
    {
     "name": "stdout",
     "output_type": "stream",
     "text": [
      "The Eigenvalues are:\n",
      " [1.-2.52702567e-16j 4.-1.91386643e-16j]\n",
      "\n",
      "The Eigenvectors are:\n",
      " [[ 0.81649658+0.j          0.40824829-0.40824829j]\n",
      " [-0.40824829-0.40824829j  0.81649658+0.j        ]]\n"
     ]
    }
   ],
   "source": [
    "import numpy as np\n",
    "\n",
    "# Define matrix H.\n",
    "H = np.array([[2, 1 - 1j],\n",
    "             [1 + 1j, 3]])\n",
    "\n",
    "# Compute eigenvalues and eigenvectors.\n",
    "eigenvalues, eigenvectors = np.linalg.eig(H)\n",
    "\n",
    "# Print.\n",
    "print(\"The Eigenvalues are:\\n\", eigenvalues)\n",
    "print(\"\\nThe Eigenvectors are:\\n\", eigenvectors)\n"
   ]
  }
 ],
 "metadata": {
  "kernelspec": {
   "display_name": "Python 3 (ipykernel)",
   "language": "python",
   "name": "python3"
  },
  "language_info": {
   "codemirror_mode": {
    "name": "ipython",
    "version": 3
   },
   "file_extension": ".py",
   "mimetype": "text/x-python",
   "name": "python",
   "nbconvert_exporter": "python",
   "pygments_lexer": "ipython3",
   "version": "3.12.5"
  }
 },
 "nbformat": 4,
 "nbformat_minor": 5
}
